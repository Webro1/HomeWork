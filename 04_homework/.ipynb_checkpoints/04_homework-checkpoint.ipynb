{
 "cells": [
  {
   "cell_type": "markdown",
   "id": "14231135-ab0f-43d2-9608-8d21df78d623",
   "metadata": {},
   "source": [
    "EASY\n",
    "\n",
    "Вычислить вероятность выживания, если пассажиру:\n",
    "\n",
    "от 0 до 25 лет\n",
    "от 25 до 50 лет\n",
    "от 50 лет и старше"
   ]
  },
  {
   "cell_type": "code",
   "execution_count": 15,
   "id": "0ca8f392-27c7-466b-8b1e-13a56486a3c0",
   "metadata": {},
   "outputs": [],
   "source": [
    "import pandas as pd\n",
    "titanic = pd.read_csv('train.csv') \n",
    "titanic1 = titanic[titanic['Age'] < 25]\n",
    "titanic2 = titanic[(titanic['Age'] >= 25) & (titanic['Age'] < 50)]\n",
    "titanic3 = titanic[titanic['Age'] >= 50]"
   ]
  },
  {
   "cell_type": "code",
   "execution_count": 11,
   "id": "9623b4e4-47a9-4ecb-9463-d39aaa06714c",
   "metadata": {},
   "outputs": [
    {
     "data": {
      "text/plain": [
       "0.4244604316546763"
      ]
     },
     "execution_count": 11,
     "metadata": {},
     "output_type": "execute_result"
    }
   ],
   "source": [
    "# Вероятность выживания от 0 до 25\n",
    "a1 = len(titanic1[titanic1['Survived'] == 1]) # выживших от 0 до 25\n",
    "P_1 = a1 / len(titanic1)\n",
    "P_1"
   ]
  },
  {
   "cell_type": "code",
   "execution_count": 13,
   "id": "af2203c2-9b30-419d-ab7a-c8fb52c5ec8e",
   "metadata": {},
   "outputs": [
    {
     "data": {
      "text/plain": [
       "0.4005524861878453"
      ]
     },
     "execution_count": 13,
     "metadata": {},
     "output_type": "execute_result"
    }
   ],
   "source": [
    "# Вероятность выживания от 25 до 50\n",
    "a2 = len(titanic2[titanic2['Survived'] == 1])\n",
    "P_2 = a2 / len(titanic2)\n",
    "P_2"
   ]
  },
  {
   "cell_type": "code",
   "execution_count": 16,
   "id": "bf5c0684-7010-443e-a86f-79f9ce56ee7a",
   "metadata": {},
   "outputs": [
    {
     "data": {
      "text/plain": [
       "0.36486486486486486"
      ]
     },
     "execution_count": 16,
     "metadata": {},
     "output_type": "execute_result"
    }
   ],
   "source": [
    "# Вероятность выживания от 50\n",
    "a3 = len(titanic3[titanic3['Survived'] == 1])\n",
    "P_3 = a3 / len(titanic3)\n",
    "P_3"
   ]
  },
  {
   "cell_type": "markdown",
   "id": "3d732fc2-5251-4b8f-b92d-f654e39dc041",
   "metadata": {},
   "source": [
    "\n",
    "\n",
    "NORMAL\n",
    "\n",
    "Вычислить с какой вероятностью пассажир женского пола, если известно, что он выжил (использовать теорему Байеса)"
   ]
  },
  {
   "cell_type": "code",
   "execution_count": 29,
   "id": "87d9588a-3670-4051-b559-de64a9d79cea",
   "metadata": {},
   "outputs": [
    {
     "data": {
      "text/plain": [
       "0.35241301907968575"
      ]
     },
     "execution_count": 29,
     "metadata": {},
     "output_type": "execute_result"
    }
   ],
   "source": [
    "import pandas as pd\n",
    "titanic = pd.read_csv('train.csv')\n",
    "women = len(titanic[titanic['Sex'] == 'female'])\n",
    "all_men = len(titanic['Sex']) \n",
    "A = women / all_men # Вероятность того, что окажется женщина P(A)\n",
    "A"
   ]
  },
  {
   "cell_type": "code",
   "execution_count": 32,
   "id": "33a71bd2-eee0-49c0-b02f-9751945ccc71",
   "metadata": {},
   "outputs": [
    {
     "data": {
      "text/plain": [
       "0.3838383838383838"
      ]
     },
     "execution_count": 32,
     "metadata": {},
     "output_type": "execute_result"
    }
   ],
   "source": [
    "survived = len(titanic[titanic['Survived'] == 1])\n",
    "B = survived / all_men # Вероятность выживания P(B)\n",
    "B"
   ]
  },
  {
   "cell_type": "code",
   "execution_count": 35,
   "id": "c4ac95dd-8c3d-4d94-ba5e-ca537edead77",
   "metadata": {},
   "outputs": [
    {
     "data": {
      "text/plain": [
       "0.7420382165605095"
      ]
     },
     "execution_count": 35,
     "metadata": {},
     "output_type": "execute_result"
    }
   ],
   "source": [
    "# Вероятность, что выживший из числа женщин\n",
    "AB = len(titanic[(titanic['Sex'] == 'female') & (titanic['Survived'] == 1)]) / len(titanic[titanic['Sex'] == 'female']) \n",
    "AB"
   ]
  },
  {
   "cell_type": "code",
   "execution_count": 37,
   "id": "1748332e-f676-434a-9036-d1d24727f894",
   "metadata": {},
   "outputs": [
    {
     "data": {
      "text/plain": [
       "0.6812865497076023"
      ]
     },
     "execution_count": 37,
     "metadata": {},
     "output_type": "execute_result"
    }
   ],
   "source": [
    "# По теореме Байеса\n",
    "BA = AB * A / B # вероятность, что женщина из числа выживших\n",
    "BA"
   ]
  }
 ],
 "metadata": {
  "kernelspec": {
   "display_name": "Python 3 (ipykernel)",
   "language": "python",
   "name": "python3"
  },
  "language_info": {
   "codemirror_mode": {
    "name": "ipython",
    "version": 3
   },
   "file_extension": ".py",
   "mimetype": "text/x-python",
   "name": "python",
   "nbconvert_exporter": "python",
   "pygments_lexer": "ipython3",
   "version": "3.9.7"
  }
 },
 "nbformat": 4,
 "nbformat_minor": 5
}
