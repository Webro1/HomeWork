{
 "cells": [
  {
   "cell_type": "raw",
   "id": "f8e8c299-2434-4815-8398-71255090ba25",
   "metadata": {
    "tags": []
   },
   "source": [
    "Easy\n",
    "Нужно написать функцию, которая на вход получает список из чисел, а на выходе дает список, где каждое число возведено в квадрат. Решать при помощи цикла.\n",
    "\n",
    "Попробовать на вход:\n",
    "\n",
    "\n",
    "# 1.\n",
    "list(range(10))\n",
    "\n",
    "# 2.\n",
    "list(range(100))\n",
    "\n",
    "# 3.\n",
    "list()\n",
    "\n",
    "Normal\n",
    "Тоже самое, но на этот раз без цикла (смотрим раздел с функциями из ноутбука, который разбирали в классе). Сравнить скорость выполнения первого и второго варианта.\n",
    "\n",
    "Hard\n",
    "Написать функцию, которая на вход принимает список, а возвращает словарь со среднием, медианой и модой, например вот такой: {\"mean\": ..., \"median\": ..., \"mode\": ...}. На следующем занятии разберем как это сделать при помощи библиотек, а пока нужно реализовать просто по формулам.\n",
    "\n",
    "Пример:\n",
    "\n",
    "\n",
    "func([0, 1, 1, 10, 5, 4, 3])\n",
    "\n",
    "# Должно вернуть: {\"mean\": 3.4285, \"median\": 3, \"mode\": 1}"
   ]
  },
  {
   "cell_type": "code",
   "execution_count": 1,
   "id": "e7eeb98e-1f04-4598-8702-1462086fc46f",
   "metadata": {},
   "outputs": [
    {
     "data": {
      "text/plain": [
       "[0, 1, 4, 9, 16, 25, 36, 49, 64, 81]"
      ]
     },
     "execution_count": 1,
     "metadata": {},
     "output_type": "execute_result"
    }
   ],
   "source": [
    "# Easy\n",
    "# 1\n",
    "\n",
    "def square_toplist(list1):\n",
    "    new_list = []\n",
    "    for x in list1:\n",
    "        new_list.append(x * x)\n",
    "    return new_list\n",
    "list1 = [a for a in range(10)]\n",
    "square_toplist(list1)"
   ]
  },
  {
   "cell_type": "code",
   "execution_count": 2,
   "id": "7688aa46-9356-4c3b-9630-93b6eb087b96",
   "metadata": {},
   "outputs": [
    {
     "name": "stdout",
     "output_type": "stream",
     "text": [
      "[0, 1, 4, 9, 16, 25, 36, 49, 64, 81, 100, 121, 144, 169, 196, 225, 256, 289, 324, 361, 400, 441, 484, 529, 576, 625, 676, 729, 784, 841, 900, 961, 1024, 1089, 1156, 1225, 1296, 1369, 1444, 1521, 1600, 1681, 1764, 1849, 1936, 2025, 2116, 2209, 2304, 2401, 2500, 2601, 2704, 2809, 2916, 3025, 3136, 3249, 3364, 3481, 3600, 3721, 3844, 3969, 4096, 4225, 4356, 4489, 4624, 4761, 4900, 5041, 5184, 5329, 5476, 5625, 5776, 5929, 6084, 6241, 6400, 6561, 6724, 6889, 7056, 7225, 7396, 7569, 7744, 7921, 8100, 8281, 8464, 8649, 8836, 9025, 9216, 9409, 9604, 9801] "
     ]
    }
   ],
   "source": [
    "# 2\n",
    "\n",
    "def square_toplist1(list2):\n",
    "    new_list = []\n",
    "    for x in list2:\n",
    "        new_list.append(x * x)\n",
    "    return new_list\n",
    "list2 = [a for a in range(100)]\n",
    "print(square_toplist1(list2), end=' ') # через принт, т.к. без него выводит все числа на новой строке"
   ]
  },
  {
   "cell_type": "code",
   "execution_count": 3,
   "id": "8adf00fe-4433-4321-9c52-b50709d0be52",
   "metadata": {},
   "outputs": [
    {
     "data": {
      "text/plain": [
       "[]"
      ]
     },
     "execution_count": 3,
     "metadata": {},
     "output_type": "execute_result"
    }
   ],
   "source": [
    "# 3\n",
    "\n",
    "def square_toplist2(list3):\n",
    "    new_list = []\n",
    "    for x in list3:\n",
    "        new_list.append(x * x)\n",
    "    return new_list\n",
    "list3 = ()\n",
    "square_toplist2(list3)"
   ]
  },
  {
   "cell_type": "code",
   "execution_count": 28,
   "id": "b6af97ee-f475-4d4b-8c9c-93d5303a7d0f",
   "metadata": {},
   "outputs": [
    {
     "data": {
      "text/plain": [
       "[0, 1, 4, 9, 16, 25, 36, 49, 64, 81]"
      ]
     },
     "execution_count": 28,
     "metadata": {},
     "output_type": "execute_result"
    }
   ],
   "source": [
    "# Normal\n",
    "# 1\n",
    "\n",
    "def square_element(x):\n",
    "    return x * x\n",
    "\n",
    "test_list = list(range(10))\n",
    "list(map(square_element, test_list))"
   ]
  },
  {
   "cell_type": "code",
   "execution_count": 31,
   "id": "933f5b9f-cd86-48a0-bedd-5a4dbe9b7511",
   "metadata": {},
   "outputs": [
    {
     "name": "stdout",
     "output_type": "stream",
     "text": [
      "[0, 1, 4, 9, 16, 25, 36, 49, 64, 81, 100, 121, 144, 169, 196, 225, 256, 289, 324, 361, 400, 441, 484, 529, 576, 625, 676, 729, 784, 841, 900, 961, 1024, 1089, 1156, 1225, 1296, 1369, 1444, 1521, 1600, 1681, 1764, 1849, 1936, 2025, 2116, 2209, 2304, 2401, 2500, 2601, 2704, 2809, 2916, 3025, 3136, 3249, 3364, 3481, 3600, 3721, 3844, 3969, 4096, 4225, 4356, 4489, 4624, 4761, 4900, 5041, 5184, 5329, 5476, 5625, 5776, 5929, 6084, 6241, 6400, 6561, 6724, 6889, 7056, 7225, 7396, 7569, 7744, 7921, 8100, 8281, 8464, 8649, 8836, 9025, 9216, 9409, 9604, 9801] "
     ]
    }
   ],
   "source": [
    "# 2\n",
    "\n",
    "def square_element(x):\n",
    "    return x * x\n",
    "\n",
    "test_list = list(range(100))\n",
    "print(list(map(square_element, test_list)), end=' ')"
   ]
  },
  {
   "cell_type": "code",
   "execution_count": 34,
   "id": "15e960c5-5d71-49cb-84e8-62bc04392d51",
   "metadata": {},
   "outputs": [
    {
     "data": {
      "text/plain": [
       "[]"
      ]
     },
     "execution_count": 34,
     "metadata": {},
     "output_type": "execute_result"
    }
   ],
   "source": [
    "# 3\n",
    "\n",
    "def square_element(x):\n",
    "    return x * x\n",
    "\n",
    "list(map(square_element, list()))"
   ]
  },
  {
   "cell_type": "code",
   "execution_count": 46,
   "id": "5dbeacd2-f5d5-4f71-95ff-33289cdd7caa",
   "metadata": {},
   "outputs": [],
   "source": [
    "# Тест по времени работы (задача №2 уровня Easy и Normal)"
   ]
  },
  {
   "cell_type": "code",
   "execution_count": 47,
   "id": "8c94813f-4846-4f9b-902d-a92b2997e1ca",
   "metadata": {},
   "outputs": [
    {
     "name": "stdout",
     "output_type": "stream",
     "text": [
      "25.7 µs ± 1.64 µs per loop (mean ± std. dev. of 7 runs, 10000 loops each)\n"
     ]
    }
   ],
   "source": [
    "%%timeit\n",
    "\n",
    "square_toplist1(list2)"
   ]
  },
  {
   "cell_type": "code",
   "execution_count": 49,
   "id": "b5ba2dec-68ad-4e54-9c6f-f9e4e8b912d0",
   "metadata": {},
   "outputs": [
    {
     "name": "stdout",
     "output_type": "stream",
     "text": [
      "1.11 µs ± 33.8 ns per loop (mean ± std. dev. of 7 runs, 1000000 loops each)\n"
     ]
    }
   ],
   "source": [
    "%%timeit\n",
    "\n",
    "list(map(square_element, test_list))"
   ]
  },
  {
   "cell_type": "code",
   "execution_count": 56,
   "id": "72af8f63-2551-4538-82b2-34cea612dad5",
   "metadata": {},
   "outputs": [
    {
     "name": "stdout",
     "output_type": "stream",
     "text": [
      "{'mean': 5.0, 'median': 4, 'moda': 3}\n"
     ]
    }
   ],
   "source": [
    "# Hard\n",
    "\n",
    "def statistics(list_1):\n",
    "    mean = sum(list_1)/len(list_1)\n",
    "    x = sorted(list_1)\n",
    "    if len(x) % 2 !=0:\n",
    "        med = x[len(x) // 2]\n",
    "    else:\n",
    "        med = (x[len(x) // 2 - 1] + x[len(x) // 2]) / 2        \n",
    "    list_1 = []\n",
    "    for i in x:\n",
    "        list_1.append(x.count(i)) # подсмотрел у Александра:)\n",
    "    max_1 = max(list_1)\n",
    "    i = list_1.index(max_1)\n",
    "    moda = x[i]\n",
    "    return {'mean':mean, 'median':med, 'moda':moda}\n",
    "\n",
    "list_1 = [4, 5, 3, 3, 8, 0, 12]\n",
    "print(statistics(list_1))"
   ]
  },
  {
   "cell_type": "code",
   "execution_count": null,
   "id": "dc29b388-adf0-402e-ae34-ee4c1165de8a",
   "metadata": {},
   "outputs": [],
   "source": []
  }
 ],
 "metadata": {
  "kernelspec": {
   "display_name": "Python 3 (ipykernel)",
   "language": "python",
   "name": "python3"
  },
  "language_info": {
   "codemirror_mode": {
    "name": "ipython",
    "version": 3
   },
   "file_extension": ".py",
   "mimetype": "text/x-python",
   "name": "python",
   "nbconvert_exporter": "python",
   "pygments_lexer": "ipython3",
   "version": "3.9.7"
  }
 },
 "nbformat": 4,
 "nbformat_minor": 5
}
